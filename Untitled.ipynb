{
 "cells": [
  {
   "cell_type": "code",
   "execution_count": 1,
   "metadata": {},
   "outputs": [],
   "source": [
    "import os\n",
    "SYM_PATH = '~/cs330'\n",
    "MJC_PATH = '{}/mujoco'.format(SYM_PATH)\n",
    "# if not os.path.exists(MJC_PATH):\n",
    "#   %mkdir $MJC_PATH\n",
    "# %cd $MJC_PATH\n",
    "# if not os.path.exists(os.path.join(MJC_PATH, 'mujoco200')):\n",
    "#   !wget -q https://www.roboti.us/download/mujoco200_linux.zip\n",
    "#   !unzip -q mujoco200_linux.zip\n",
    "#   %mv mujoco200_linux mujoco200\n",
    "#   %rm mujoco200_linux.zip"
   ]
  },
  {
   "cell_type": "code",
   "execution_count": 2,
   "metadata": {},
   "outputs": [],
   "source": [
    "import os\n",
    "\n",
    "# os.environ['LD_LIBRARY_PATH'] += ':{}/mujoco200/bin'.format(MJC_PATH)\n",
    "os.environ['MUJOCO_PY_MUJOCO_PATH'] = ':{}/mujoco200'.format(MJC_PATH)\n",
    "os.environ['MUJOCO_PY_MJKEY_PATH'] = ':{}/mjkey.txt'.format(MJC_PATH)\n",
    "## installation on colab does not find *.so files\n",
    "## in LD_LIBRARY_PATH, copy over manually instead\n",
    "!export LD_LIBRARY_PATH=\"~/cs330/mujoco/mujoco200/bin\""
   ]
  },
  {
   "cell_type": "code",
   "execution_count": 3,
   "metadata": {},
   "outputs": [
    {
     "name": "stdout",
     "output_type": "stream",
     "text": [
      "cp: cannot create regular file '/usr/lib/x86_64-linux-gnu/libglewegl.so': Permission denied\n",
      "cp: cannot create regular file '/usr/lib/x86_64-linux-gnu/libglewosmesa.so': Permission denied\n",
      "cp: cannot create regular file '/usr/lib/x86_64-linux-gnu/libglew.so': Permission denied\n",
      "cp: cannot create regular file '/usr/lib/x86_64-linux-gnu/libmujoco200nogl.so': Permission denied\n",
      "cp: cannot create regular file '/usr/lib/x86_64-linux-gnu/libmujoco200.so': Permission denied\n"
     ]
    }
   ],
   "source": [
    "# !sudo cp ~/cs330/mujoco/mujoco200/bin/*.so /usr/lib/x86_64-linux-gnu/"
   ]
  },
  {
   "cell_type": "code",
   "execution_count": 4,
   "metadata": {
    "collapsed": true,
    "jupyter": {
     "outputs_hidden": true
    }
   },
   "outputs": [
    {
     "name": "stdout",
     "output_type": "stream",
     "text": [
      "/home/ztan/cs330/mujoco\n",
      "/home/ztan/cs330/mujoco/mujoco-py\n",
      "Obtaining file:///home/ztan/cs330/mujoco/mujoco-py\n",
      "  Installing build dependencies ... \u001b[?25ldone\n",
      "\u001b[33m  WARNING: Missing build requirements in pyproject.toml for file:///home/ztan/cs330/mujoco/mujoco-py.\u001b[0m\n",
      "\u001b[33m  WARNING: The project does not specify a build backend, and pip cannot fall back to setuptools without 'wheel'.\u001b[0m\n",
      "\u001b[?25h  Getting requirements to build wheel ... \u001b[?25ldone\n",
      "\u001b[?25h  Installing backend dependencies ... \u001b[?25ldone\n",
      "\u001b[?25h    Preparing wheel metadata ... \u001b[?25ldone\n",
      "\u001b[?25hRequirement already satisfied: imageio>=2.1.2 in /home/ztan/miniconda3/lib/python3.8/site-packages (from mujoco-py==2.0.2.13) (2.9.0)\n",
      "Requirement already satisfied: numpy>=1.11 in /home/ztan/miniconda3/lib/python3.8/site-packages (from mujoco-py==2.0.2.13) (1.19.2)\n",
      "Requirement already satisfied: cffi>=1.10 in /home/ztan/miniconda3/lib/python3.8/site-packages (from mujoco-py==2.0.2.13) (1.14.0)\n",
      "Requirement already satisfied: Cython>=0.27.2 in /home/ztan/miniconda3/lib/python3.8/site-packages (from mujoco-py==2.0.2.13) (0.29.21)\n",
      "Requirement already satisfied: glfw>=1.4.0 in /home/ztan/miniconda3/lib/python3.8/site-packages (from mujoco-py==2.0.2.13) (2.0.0)\n",
      "Requirement already satisfied: fasteners~=0.15 in /home/ztan/miniconda3/lib/python3.8/site-packages (from mujoco-py==2.0.2.13) (0.15)\n",
      "Requirement already satisfied: pillow in /home/ztan/miniconda3/lib/python3.8/site-packages (from imageio>=2.1.2->mujoco-py==2.0.2.13) (8.0.1)\n",
      "Requirement already satisfied: pycparser in /home/ztan/miniconda3/lib/python3.8/site-packages (from cffi>=1.10->mujoco-py==2.0.2.13) (2.20)\n",
      "Requirement already satisfied: six in /home/ztan/miniconda3/lib/python3.8/site-packages (from fasteners~=0.15->mujoco-py==2.0.2.13) (1.14.0)\n",
      "Requirement already satisfied: monotonic>=0.1 in /home/ztan/miniconda3/lib/python3.8/site-packages (from fasteners~=0.15->mujoco-py==2.0.2.13) (1.5)\n",
      "Installing collected packages: mujoco-py\n",
      "  Attempting uninstall: mujoco-py\n",
      "    Found existing installation: mujoco-py 2.0.2.13\n",
      "    Uninstalling mujoco-py-2.0.2.13:\n",
      "      Successfully uninstalled mujoco-py-2.0.2.13\n",
      "  Running setup.py develop for mujoco-py\n",
      "Successfully installed mujoco-py\n",
      "Note: you may need to restart the kernel to use updated packages.\n"
     ]
    },
    {
     "name": "stderr",
     "output_type": "stream",
     "text": [
      "\n",
      "You appear to be missing MuJoCo.  We expected to find the file here: :~/cs330/mujoco/mujoco200\n",
      "\n",
      "This package only provides python bindings, the library must be installed separately.\n",
      "\n",
      "Please follow the instructions on the README to install MuJoCo\n",
      "\n",
      "    https://github.com/openai/mujoco-py#install-mujoco\n",
      "\n",
      "Which can be downloaded from the website\n",
      "\n",
      "    https://www.roboti.us/index.html\n",
      "\n"
     ]
    },
    {
     "ename": "Exception",
     "evalue": "\nYou appear to be missing MuJoCo.  We expected to find the file here: :~/cs330/mujoco/mujoco200\n\nThis package only provides python bindings, the library must be installed separately.\n\nPlease follow the instructions on the README to install MuJoCo\n\n    https://github.com/openai/mujoco-py#install-mujoco\n\nWhich can be downloaded from the website\n\n    https://www.roboti.us/index.html\n",
     "output_type": "error",
     "traceback": [
      "\u001b[0;31m---------------------------------------------------------------------------\u001b[0m",
      "\u001b[0;31mException\u001b[0m                                 Traceback (most recent call last)",
      "\u001b[0;32m<ipython-input-4-d3bbadd24697>\u001b[0m in \u001b[0;36m<module>\u001b[0;34m\u001b[0m\n\u001b[1;32m      6\u001b[0m \u001b[0;34m\u001b[0m\u001b[0m\n\u001b[1;32m      7\u001b[0m \u001b[0;31m## cythonize at the first import\u001b[0m\u001b[0;34m\u001b[0m\u001b[0;34m\u001b[0m\u001b[0;34m\u001b[0m\u001b[0m\n\u001b[0;32m----> 8\u001b[0;31m \u001b[0;32mimport\u001b[0m \u001b[0mmujoco_py\u001b[0m\u001b[0;34m\u001b[0m\u001b[0;34m\u001b[0m\u001b[0m\n\u001b[0m",
      "\u001b[0;32m~/cs330/mujoco/mujoco-py/mujoco_py/__init__.py\u001b[0m in \u001b[0;36m<module>\u001b[0;34m\u001b[0m\n\u001b[1;32m      1\u001b[0m \u001b[0;31m#!/usr/bin/env python\u001b[0m\u001b[0;34m\u001b[0m\u001b[0;34m\u001b[0m\u001b[0;34m\u001b[0m\u001b[0m\n\u001b[1;32m      2\u001b[0m \u001b[0;32mimport\u001b[0m \u001b[0mos\u001b[0m\u001b[0;34m\u001b[0m\u001b[0;34m\u001b[0m\u001b[0m\n\u001b[0;32m----> 3\u001b[0;31m \u001b[0;32mfrom\u001b[0m \u001b[0mmujoco_py\u001b[0m\u001b[0;34m.\u001b[0m\u001b[0mbuilder\u001b[0m \u001b[0;32mimport\u001b[0m \u001b[0mcymj\u001b[0m\u001b[0;34m,\u001b[0m \u001b[0mignore_mujoco_warnings\u001b[0m\u001b[0;34m,\u001b[0m \u001b[0mfunctions\u001b[0m\u001b[0;34m,\u001b[0m \u001b[0mMujocoException\u001b[0m\u001b[0;34m\u001b[0m\u001b[0;34m\u001b[0m\u001b[0m\n\u001b[0m\u001b[1;32m      4\u001b[0m \u001b[0;32mfrom\u001b[0m \u001b[0mmujoco_py\u001b[0m\u001b[0;34m.\u001b[0m\u001b[0mgenerated\u001b[0m \u001b[0;32mimport\u001b[0m \u001b[0mconst\u001b[0m\u001b[0;34m\u001b[0m\u001b[0;34m\u001b[0m\u001b[0m\n\u001b[1;32m      5\u001b[0m \u001b[0;32mfrom\u001b[0m \u001b[0mmujoco_py\u001b[0m\u001b[0;34m.\u001b[0m\u001b[0mmjrenderpool\u001b[0m \u001b[0;32mimport\u001b[0m \u001b[0mMjRenderPool\u001b[0m\u001b[0;34m\u001b[0m\u001b[0;34m\u001b[0m\u001b[0m\n",
      "\u001b[0;32m~/cs330/mujoco/mujoco-py/mujoco_py/builder.py\u001b[0m in \u001b[0;36m<module>\u001b[0;34m\u001b[0m\n\u001b[1;32m    507\u001b[0m \u001b[0;34m\u001b[0m\u001b[0m\n\u001b[1;32m    508\u001b[0m \u001b[0;34m\u001b[0m\u001b[0m\n\u001b[0;32m--> 509\u001b[0;31m \u001b[0mmujoco_path\u001b[0m\u001b[0;34m,\u001b[0m \u001b[0mkey_path\u001b[0m \u001b[0;34m=\u001b[0m \u001b[0mdiscover_mujoco\u001b[0m\u001b[0;34m(\u001b[0m\u001b[0;34m)\u001b[0m\u001b[0;34m\u001b[0m\u001b[0;34m\u001b[0m\u001b[0m\n\u001b[0m\u001b[1;32m    510\u001b[0m \u001b[0mcymj\u001b[0m \u001b[0;34m=\u001b[0m \u001b[0mload_cython_ext\u001b[0m\u001b[0;34m(\u001b[0m\u001b[0mmujoco_path\u001b[0m\u001b[0;34m)\u001b[0m\u001b[0;34m\u001b[0m\u001b[0;34m\u001b[0m\u001b[0m\n\u001b[1;32m    511\u001b[0m \u001b[0;34m\u001b[0m\u001b[0m\n",
      "\u001b[0;32m~/cs330/mujoco/mujoco-py/mujoco_py/utils.py\u001b[0m in \u001b[0;36mdiscover_mujoco\u001b[0;34m()\u001b[0m\n\u001b[1;32m     91\u001b[0m         \u001b[0mmessage\u001b[0m \u001b[0;34m=\u001b[0m \u001b[0mMISSING_MUJOCO_MESSAGE\u001b[0m\u001b[0;34m.\u001b[0m\u001b[0mformat\u001b[0m\u001b[0;34m(\u001b[0m\u001b[0mmujoco_path\u001b[0m\u001b[0;34m)\u001b[0m\u001b[0;34m\u001b[0m\u001b[0;34m\u001b[0m\u001b[0m\n\u001b[1;32m     92\u001b[0m         \u001b[0mprint\u001b[0m\u001b[0;34m(\u001b[0m\u001b[0mmessage\u001b[0m\u001b[0;34m,\u001b[0m \u001b[0mfile\u001b[0m\u001b[0;34m=\u001b[0m\u001b[0msys\u001b[0m\u001b[0;34m.\u001b[0m\u001b[0mstderr\u001b[0m\u001b[0;34m)\u001b[0m\u001b[0;34m\u001b[0m\u001b[0;34m\u001b[0m\u001b[0m\n\u001b[0;32m---> 93\u001b[0;31m         \u001b[0;32mraise\u001b[0m \u001b[0mException\u001b[0m\u001b[0;34m(\u001b[0m\u001b[0mmessage\u001b[0m\u001b[0;34m)\u001b[0m\u001b[0;34m\u001b[0m\u001b[0;34m\u001b[0m\u001b[0m\n\u001b[0m\u001b[1;32m     94\u001b[0m     \u001b[0;32mif\u001b[0m \u001b[0;32mnot\u001b[0m \u001b[0mexists\u001b[0m\u001b[0;34m(\u001b[0m\u001b[0mkey_path\u001b[0m\u001b[0;34m)\u001b[0m\u001b[0;34m:\u001b[0m\u001b[0;34m\u001b[0m\u001b[0;34m\u001b[0m\u001b[0m\n\u001b[1;32m     95\u001b[0m         \u001b[0mmessage\u001b[0m \u001b[0;34m=\u001b[0m \u001b[0mMISSING_KEY_MESSAGE\u001b[0m\u001b[0;34m.\u001b[0m\u001b[0mformat\u001b[0m\u001b[0;34m(\u001b[0m\u001b[0mkey_path\u001b[0m\u001b[0;34m)\u001b[0m\u001b[0;34m\u001b[0m\u001b[0;34m\u001b[0m\u001b[0m\n",
      "\u001b[0;31mException\u001b[0m: \nYou appear to be missing MuJoCo.  We expected to find the file here: :~/cs330/mujoco/mujoco200\n\nThis package only provides python bindings, the library must be installed separately.\n\nPlease follow the instructions on the README to install MuJoCo\n\n    https://github.com/openai/mujoco-py#install-mujoco\n\nWhich can be downloaded from the website\n\n    https://www.roboti.us/index.html\n"
     ]
    }
   ],
   "source": [
    "# %cd $MJC_PATH\n",
    "# if not os.path.exists('mujoco-py'):\n",
    "#   !git clone https://github.com/openai/mujoco-py.git\n",
    "# %cd mujoco-py\n",
    "# %pip install -e .\n",
    "\n",
    "# ## cythonize at the first import\n",
    "# import mujoco_py"
   ]
  },
  {
   "cell_type": "code",
   "execution_count": null,
   "metadata": {
    "collapsed": true,
    "jupyter": {
     "outputs_hidden": true
    }
   },
   "outputs": [
    {
     "name": "stdout",
     "output_type": "stream",
     "text": [
      "Compiling /home/ztan/cs330/mujoco/mujoco-py/mujoco_py/cymj.pyx because it changed.\n",
      "[1/1] Cythonizing /home/ztan/cs330/mujoco/mujoco-py/mujoco_py/cymj.pyx\n",
      "running build_ext\n",
      "building 'mujoco_py.cymj' extension\n",
      "creating /home/ztan/cs330/mujoco/mujoco-py/mujoco_py/generated/_pyxbld_2.0.2.13_38_linuxcpuextensionbuilder\n",
      "creating /home/ztan/cs330/mujoco/mujoco-py/mujoco_py/generated/_pyxbld_2.0.2.13_38_linuxcpuextensionbuilder/temp.linux-x86_64-3.8\n",
      "creating /home/ztan/cs330/mujoco/mujoco-py/mujoco_py/generated/_pyxbld_2.0.2.13_38_linuxcpuextensionbuilder/temp.linux-x86_64-3.8/home\n",
      "creating /home/ztan/cs330/mujoco/mujoco-py/mujoco_py/generated/_pyxbld_2.0.2.13_38_linuxcpuextensionbuilder/temp.linux-x86_64-3.8/home/ztan\n",
      "creating /home/ztan/cs330/mujoco/mujoco-py/mujoco_py/generated/_pyxbld_2.0.2.13_38_linuxcpuextensionbuilder/temp.linux-x86_64-3.8/home/ztan/cs330\n",
      "creating /home/ztan/cs330/mujoco/mujoco-py/mujoco_py/generated/_pyxbld_2.0.2.13_38_linuxcpuextensionbuilder/temp.linux-x86_64-3.8/home/ztan/cs330/mujoco\n",
      "creating /home/ztan/cs330/mujoco/mujoco-py/mujoco_py/generated/_pyxbld_2.0.2.13_38_linuxcpuextensionbuilder/temp.linux-x86_64-3.8/home/ztan/cs330/mujoco/mujoco-py\n",
      "creating /home/ztan/cs330/mujoco/mujoco-py/mujoco_py/generated/_pyxbld_2.0.2.13_38_linuxcpuextensionbuilder/temp.linux-x86_64-3.8/home/ztan/cs330/mujoco/mujoco-py/mujoco_py\n",
      "creating /home/ztan/cs330/mujoco/mujoco-py/mujoco_py/generated/_pyxbld_2.0.2.13_38_linuxcpuextensionbuilder/temp.linux-x86_64-3.8/home/ztan/cs330/mujoco/mujoco-py/mujoco_py/gl\n",
      "gcc -pthread -B /home/ztan/miniconda3/compiler_compat -Wl,--sysroot=/ -Wsign-compare -DNDEBUG -g -fwrapv -O3 -Wall -fPIC -Imujoco/mujoco-py/mujoco_py -I/home/ztan/cs330/mujoco/mujoco-py/mujoco_py -I/home/ztan/.mujoco/mujoco200/include -I/home/ztan/miniconda3/lib/python3.8/site-packages/numpy/core/include -I/home/ztan/miniconda3/include/python3.8 -c /home/ztan/cs330/mujoco/mujoco-py/mujoco_py/cymj.c -o /home/ztan/cs330/mujoco/mujoco-py/mujoco_py/generated/_pyxbld_2.0.2.13_38_linuxcpuextensionbuilder/temp.linux-x86_64-3.8/home/ztan/cs330/mujoco/mujoco-py/mujoco_py/cymj.o -fopenmp -w\n"
     ]
    }
   ],
   "source": [
    "# import os\n",
    "# os.environ['LD_LIBRARY_PATH']=\"/home/ztan/.mujoco/mujoco200/bin\"\n",
    "# import mujoco_py"
   ]
  },
  {
   "cell_type": "code",
   "execution_count": 1,
   "metadata": {},
   "outputs": [],
   "source": [
    "import mujoco_py"
   ]
  }
 ],
 "metadata": {
  "kernelspec": {
   "display_name": "Python 3",
   "language": "python",
   "name": "python3"
  },
  "language_info": {
   "codemirror_mode": {
    "name": "ipython",
    "version": 3
   },
   "file_extension": ".py",
   "mimetype": "text/x-python",
   "name": "python",
   "nbconvert_exporter": "python",
   "pygments_lexer": "ipython3",
   "version": "3.8.3"
  }
 },
 "nbformat": 4,
 "nbformat_minor": 4
}
